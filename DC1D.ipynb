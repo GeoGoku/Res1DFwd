{
 "cells": [
  {
   "cell_type": "markdown",
   "metadata": {
    "collapsed": true
   },
   "source": [
    "# ResistivityLogging1D\n",
    "### An interactive notebook application for learning the resistivity logging for different models\n",
    "\n",
    "* Plot potential curve in 1D\n",
    "* Plot layered-space model and apparent resistivity in 1D\n",
    "* Explore how potential and apparent resistivity change for different parameters in 1D\n",
    "* \"Run All\" to get the default result\n",
    "* Plot lines the way you like by changing the plotting codes\n",
    "\n",
    "**Bugs and improvement: chentaosx@hotmail.com**"
   ]
  },
  {
   "cell_type": "markdown",
   "metadata": {},
   "source": [
    "## Import packages"
   ]
  },
  {
   "cell_type": "code",
   "execution_count": 1,
   "metadata": {},
   "outputs": [],
   "source": [
    "import numpy as np\n",
    "import matplotlib.pyplot as plt\n",
    "import copy\n",
    "%matplotlib inline"
   ]
  },
  {
   "cell_type": "markdown",
   "metadata": {},
   "source": [
    "## Function definitions"
   ]
  },
  {
   "cell_type": "code",
   "execution_count": 2,
   "metadata": {},
   "outputs": [],
   "source": [
    "# plane info\n",
    "class plane():\n",
    "    def __init__(self, num, loc):\n",
    "        self.num = num   # number of plane\n",
    "        self.loc = loc   # location of plane"
   ]
  },
  {
   "cell_type": "code",
   "execution_count": 3,
   "metadata": {},
   "outputs": [],
   "source": [
    "# layer info\n",
    "class layer():\n",
    "    def __init__(self, num, rho):\n",
    "        self.num = num   # number of layer\n",
    "        self.rho = rho   # resistivity of layer"
   ]
  },
  {
   "cell_type": "code",
   "execution_count": 4,
   "metadata": {},
   "outputs": [],
   "source": [
    "# Potential Electrode\n",
    "class  potentialElectrode():\n",
    "    def __init__(self, radius, depth):\n",
    "        self.radius = radius   # radius of the PE\n",
    "        self.depth = depth   # depth of the PE"
   ]
  },
  {
   "cell_type": "code",
   "execution_count": 5,
   "metadata": {},
   "outputs": [],
   "source": [
    "# Current Electrode\n",
    "class currentElectrode():\n",
    "    def __init__(self, intensity, loc, toolSize = 0):\n",
    "        self.intensity = intensity   # intensity of the CE\n",
    "        self.toolSize = toolSize\n",
    "        self.loc = loc - self.toolSize - 0.00001   # location of the CE\n",
    "        \n",
    "    def update_layerInd(self, layerInd):\n",
    "        self.layerInd = layerInd\n",
    "    \n",
    "    def update_rho(self, rho):\n",
    "        self.rho = rho  "
   ]
  },
  {
   "cell_type": "code",
   "execution_count": 6,
   "metadata": {},
   "outputs": [],
   "source": [
    "# Hankel transform\n",
    "# refer paper \"1997, Guptasarma and Singh, New digital linear filters for Hankel J0 and J1 transforms\" for more details\n",
    "def HankelTransform(r):\n",
    "    a = -8.38850000000e+00   # shift\n",
    "    s = 9.04226468670e-02   # sampling space\n",
    "    n = 120   # num of filter weights\n",
    "    \n",
    "    # filterWeights for J0(120 order)\n",
    "    weights = [ 9.62801364263e-07, -5.02069203805e-06,  1.25268783953e-05, -1.99324417376e-05,\n",
    "               2.29149033546e-05, -2.04737583809e-05,  1.49952002937e-05, -9.37502840980e-06,\n",
    "               5.20156955323e-06, -2.62939890538e-06,  1.26550848081e-06, -5.73156151923e-07,\n",
    "               2.76281274155e-07, -1.09963734387e-07,  7.38038330280e-08, -9.31614600001e-09,\n",
    "               3.87247135578e-08,  2.10303178461e-08,  4.10556513877e-08,  4.13077946246e-08,\n",
    "               5.68828741789e-08,  6.59543638130e-08,  8.40811858728e-08,  1.01532550003e-07,\n",
    "               1.26437360082e-07,  1.54733678097e-07,  1.91218582499e-07,  2.35008851918e-07,\n",
    "               2.89750329490e-07,  3.56550504341e-07,  4.39299297826e-07,  5.40794544880e-07,\n",
    "               6.66136379541e-07,  8.20175040653e-07,  1.01015545059e-06,  1.24384500153e-06,\n",
    "               1.53187399787e-06,  1.88633707689e-06,  2.32307100992e-06,  2.86067883258e-06,\n",
    "               3.52293208580e-06,  4.33827546442e-06,  5.34253613351e-06,  6.57906223200e-06,\n",
    "               8.10198829111e-06,  9.97723263578e-06,  1.22867312381e-05,  1.51305855976e-05,\n",
    "               1.86329431672e-05,  2.29456891669e-05,  2.82570465155e-05,  3.47973610445e-05,\n",
    "               4.28521099371e-05,  5.27705217882e-05,  6.49856943660e-05,  8.00269662180e-05,\n",
    "               9.85515408752e-05,  1.21361571831e-04,  1.49454562334e-04,  1.84045784500e-04,\n",
    "               2.26649641428e-04,  2.79106748890e-04,  3.43716968725e-04,  4.23267056591e-04,\n",
    "               5.21251001943e-04,  6.41886194381e-04,  7.90483105615e-04,  9.73420647376e-04,\n",
    "               1.19877439042e-03,  1.47618560844e-03,  1.81794224454e-03,  2.23860214971e-03,\n",
    "               2.75687537633e-03,  3.39471308297e-03,  4.18062141752e-03,  5.14762977308e-03,\n",
    "               6.33918155348e-03,  7.80480111772e-03,  9.61064602702e-03,  1.18304971234e-02,\n",
    "               1.45647517743e-02,  1.79219149417e-02,  2.20527911163e-02,  2.71124775541e-02,\n",
    "               3.33214363101e-02,  4.08864842127e-02,  5.01074356716e-02,  6.12084049407e-02,\n",
    "               7.45146949048e-02,  9.00780900611e-02,  1.07940155413e-01,  1.27267746478e-01,\n",
    "               1.46676027814e-01,  1.62254276550e-01,  1.68045766353e-01,  1.52383204788e-01,\n",
    "               1.01214136498e-01, -2.44389126667e-03, -1.54078468398e-01, -3.03214415655e-01,\n",
    "               -2.97674373379e-01, 7.93541259524e-03,  4.26273267393e-01,  1.00032384844e-01,\n",
    "               -4.94117404043e-01, 3.92604878741e-01, -1.90111691178e-01,  7.43654896362e-02,\n",
    "               -2.78508428343e-02, 1.09992061155e-02, -4.69798719697e-03,  2.12587632706e-03,\n",
    "               -9.81986734159e-04, 4.44992546836e-04, -1.89983519162e-04,  7.31024164292e-05,\n",
    "               -2.40057837293e-05, 6.23096824846e-06, -1.12363896552e-06,  1.04470606055e-07]\n",
    "    \n",
    "    x = np.arange(1, n + 1)\n",
    "    x = 1/r * 10 ** (a + (x - 1) * s)\n",
    "    return x, weights"
   ]
  },
  {
   "cell_type": "code",
   "execution_count": 7,
   "metadata": {},
   "outputs": [],
   "source": [
    "# kernel of the Hankel integral\n",
    "# refer paper \"2000, Sato, Potential field from a dc current source arbitrarily located in a nonuniform layered medium\" for more details\n",
    "def kernel_DC1D(x, pe, ce, layersNum, layersRho, layersThickness, planesNum, planesLoc):\n",
    "    \n",
    "    PEIndex = np.min(np.where(planesLoc >= pe.depth))\n",
    "    e = 2.7182818284590451\n",
    "    \n",
    "    # g and r\n",
    "    for i in range(1, PEIndex + 1):\n",
    "        if 1 == i:\n",
    "            f = 1\n",
    "            s = 1\n",
    "            g = (1 - s * f)/(1 + s * f)\n",
    "            layerIndex = 1\n",
    "        elif (1 != i) & (pe.depth > planesLoc[layerIndex]):\n",
    "            layerIndex = layerIndex + 1\n",
    "            if layerIndex <= ce.layerInd:\n",
    "                s = layersRho[layerIndex - 2]/layersRho[layerIndex - 1]\n",
    "                f = (1 - g * e**(-2 * x * layersThickness[layerIndex - 2]))/ \\\n",
    "                    (1 + g * e**(-2 * x * layersThickness[layerIndex - 2]))\n",
    "                g = (1 - s * f)/(1 + s * f)\n",
    "            elif layerIndex == ce.layerInd + 1:\n",
    "                f = (1 - g * e**(-2 * x * layersThickness[layerIndex - 2]))/ \\\n",
    "                    (1 + g * e**(-2 * x * layersThickness[layerIndex - 2]))\n",
    "                r = f/(1 + f)\n",
    "                g = (1 - f)/(1 + f)\n",
    "            else:\n",
    "                s = layersRho[layerIndex - 2]/layersRho[layerIndex - 1]\n",
    "                f = (1 - g * e**(-2 * x * layersThickness[layerIndex - 2]))/ \\\n",
    "                    (1 + g * e**(-2 * x * layersThickness[layerIndex - 2]))\n",
    "                g = (1 - s * f)/(1 + s * f)\n",
    "                r = r * e**(-x * layersThickness[layerIndex - 2]) * \\\n",
    "                    (1 + f) / (1 + s * f)\n",
    "    \n",
    "    # G and R\n",
    "    for j in range(layersNum, PEIndex - 1, -1):\n",
    "        if layersNum == j:\n",
    "            F = 1\n",
    "            S = 1\n",
    "            G = (1 - S * F)/(1 + S * F)\n",
    "            layerIndex = layersNum\n",
    "        elif (j != layersNum) & (pe.depth <= planesLoc[layerIndex - 1]):\n",
    "            layerIndex = layerIndex - 1\n",
    "            if layerIndex > ce.layerInd:\n",
    "                S = layersRho[layerIndex]/layersRho[layerIndex - 1]\n",
    "                F = (1 - G * e**(-2 * x * layersThickness[layerIndex]))/ \\\n",
    "                    (1 + G * e**(-2 * x * layersThickness[layerIndex]))\n",
    "                G = (1 - S * F)/(1 + S * F)\n",
    "            elif layerIndex == ce.layerInd:\n",
    "                F = (1 - G * e**(-2 * x * layersThickness[layerIndex]))/ \\\n",
    "                    (1 + G * e**(-2 * x * layersThickness[layerIndex]))\n",
    "                R = F/(1 + F)\n",
    "                G = (1 - F)/(1 + F)\n",
    "            else:\n",
    "                S = layersRho[layerIndex]/layersRho[layerIndex - 1]\n",
    "                F = (1 - G * e**(-2 * x * layersThickness[layerIndex]))/ \\\n",
    "                    (1 + G * e**(-2 * x * layersThickness[layerIndex]))\n",
    "                G = (1 - S * F)/(1 + S * F)\n",
    "                R = R * e**(-x * layersThickness[layerIndex]) * \\\n",
    "                    (1 + F)/(1 + S * F)\n",
    "    \n",
    "    if pe.depth <= ce.loc:\n",
    "        return (1 - g * e**(-2 * x * (pe.depth - planesLoc[layerIndex - 1])))/ \\\n",
    "               (1 - g * G * e**(-2 * x * layersThickness[layerIndex - 1])) * \\\n",
    "               e**(-x * (planesLoc[layerIndex] - pe.depth)) * R\n",
    "    else:\n",
    "        return (1 - G * e**(-2 * x * (planesLoc[layerIndex] - pe.depth)))/ \\\n",
    "               (1 - g * G * e**(-2 * x * layersThickness[layerIndex - 1])) * \\\n",
    "               e**(-x * (pe.depth - planesLoc[layerIndex-1])) * r "
   ]
  },
  {
   "cell_type": "code",
   "execution_count": 8,
   "metadata": {},
   "outputs": [],
   "source": [
    "def Poential(pe, ce, planes, layers):\n",
    "    if (np.min(pe.depth) <= np.min(planes.loc)) | (np.min(ce.loc) <= np.min(planes.loc)):\n",
    "        minLoc = np.min([np.min(pe.depth), np.min(ce.loc)])\n",
    "        planes.num = planes.num + 1\n",
    "        planes.loc = np.append(minLoc - 10, planes.loc)\n",
    "        layers.num = layers.num + 1\n",
    "        layers.rho = np.append(layers.rho[0], layers.rho)\n",
    "    if (np.max(pe.depth) >= np.max(planes.loc)) | (np.max(ce.loc) >= np.max(planes.loc)):\n",
    "        maxLoc = np.max([np.max(pe.depth), np.max(ce.loc)])\n",
    "        planes.num = planes.num + 1\n",
    "        planes.loc = np.append(planes.loc, maxLoc + 10)\n",
    "        layers.num = layers.num + 1\n",
    "        layers.rho = np.append(layers.rho, layers.rho[-1])\n",
    "    \n",
    "    # get the layerInd where the current electrodes are located and the resistivity\n",
    "    ce.update_layerInd(np.min(np.where(planes.loc > ce.loc)))\n",
    "    ce.update_rho(layers.rho[ce.layerInd - 1])\n",
    "    \n",
    "    # update parameters after add the fictitious plane\n",
    "    layersNum = layers.num + 1\n",
    "    planesNum = planes.num + 1\n",
    "\n",
    "    layersRho = np.append(layers.rho[: ce.layerInd],layers.rho[ce.layerInd - 1])\n",
    "    layersRho = np.append(layersRho, layers.rho[ce.layerInd :])\n",
    "    \n",
    "    planesLoc = np.append(planes.loc[: ce.layerInd], ce.loc)\n",
    "    planesLoc = np.append(planesLoc, planes.loc[ce.layerInd :])\n",
    "    layersThickness = np.diff(planesLoc)\n",
    "    \n",
    "    # potential\n",
    "    # refer paper \"2000, Sato, Potential field from a dc current source arbitrarily located in a nonuniform layered medium\" for more details\n",
    "    x, weights = HankelTransform(pe.radius)   # obain integral variable and filter weights\n",
    "    kernel = kernel_DC1D(x, pe, ce, layersNum, layersRho, layersThickness, planesNum, planesLoc)\n",
    "    V = np.sum(np.dot(kernel, weights))/pe.radius\n",
    "    \n",
    "    return ce.intensity * V * ce.rho / (2 * np.pi)"
   ]
  },
  {
   "cell_type": "markdown",
   "metadata": {},
   "source": [
    "## Setting parameters\n",
    " Change these numbers to visualize different scenarios, details please refer to the function definitions\n",
    "* planes\n",
    "* layers\n",
    "* Potential Electrode (PE)\n",
    "* Current Electrode (CE)"
   ]
  },
  {
   "cell_type": "code",
   "execution_count": 9,
   "metadata": {},
   "outputs": [],
   "source": [
    "planes = plane(11, np.arange(0, 220, 20))\n",
    "layers = layer(planes.num - 1, [200, 100, 200, 150, 250, 250, 100, 250, 100, 250])\n",
    "pe = potentialElectrode(0.1, np.arange(1, 200, 1));\n",
    "#ce = currentElectrode(10, 80)   # fixed CE\n",
    "ce = currentElectrode(10, pe.depth, 0.4)   # dynamic CE（Well logging mode, PE and CE maintain a fixed toolSize）"
   ]
  },
  {
   "cell_type": "markdown",
   "metadata": {},
   "source": [
    "## Calculating potential and apparent resistivity"
   ]
  },
  {
   "cell_type": "code",
   "execution_count": 10,
   "metadata": {},
   "outputs": [],
   "source": [
    "# potential\n",
    "V = np.zeros(len(pe.depth))\n",
    "for k in range(1, len(pe.depth) + 1):   # pe loop\n",
    "    pe_point = potentialElectrode(pe.radius, pe.depth[k - 1])\n",
    "    if np.isscalar(ce.loc):\n",
    "        ce_point = currentElectrode(ce.intensity, ce.loc)\n",
    "    else:\n",
    "        ce_point = currentElectrode(ce.intensity, ce.loc[k - 1])\n",
    "    V[k - 1] = Poential(pe_point, ce_point, planes, layers) "
   ]
  },
  {
   "cell_type": "code",
   "execution_count": 11,
   "metadata": {},
   "outputs": [],
   "source": [
    "# model or ture resistivity\n",
    "trueRes = np.zeros_like(pe.depth)\n",
    "ln = 1\n",
    "for i in planes.loc[:-1]:\n",
    "    ind = np.where(pe.depth>i)\n",
    "    trueRes[ind] = layers.rho[ln - 1]\n",
    "    ln = ln + 1   "
   ]
  },
  {
   "cell_type": "code",
   "execution_count": 12,
   "metadata": {},
   "outputs": [],
   "source": [
    "# apparent resistivity\n",
    "dist = pe.depth - ce.loc\n",
    "dist = np.sqrt(dist * dist + pe.radius * pe.radius)\n",
    "appRes = V / ce.intensity * 4 * np.pi * dist"
   ]
  },
  {
   "cell_type": "markdown",
   "metadata": {},
   "source": [
    "## Plotting results\n",
    "* change xlim, ylim for a proper dispaly"
   ]
  },
  {
   "cell_type": "code",
   "execution_count": 13,
   "metadata": {
    "scrolled": true
   },
   "outputs": [
    {
     "data": {
      "image/png": "[encoded data removed]",
      "text/plain": [
       "<Figure size 432x288 with 1 Axes>"
      ]
     },
     "metadata": {
      "needs_background": "light"
     },
     "output_type": "display_data"
    }
   ],
   "source": [
    "font1 = {'family' : 'Times New Roman',\n",
    "'weight' : 'normal',\n",
    "'size'   : 12,}\n",
    "offset = 20\n",
    "plt.figure()   # potential curve\n",
    "plt.plot(V, pe.depth)  \n",
    "plt.xlabel(\"Potential (v)\", font1)\n",
    "plt.ylabel(\"Depth (m)\", font1) \n",
    "plt.ylim(np.max(pe.depth) + offset, np.min(pe.depth) - offset)\n",
    "plt.grid()"
   ]
  },
  {
   "cell_type": "code",
   "execution_count": 14,
   "metadata": {},
   "outputs": [
    {
     "data": {
      "image/png": "[encoded data removed]",
      "text/plain": [
       "<Figure size 432x288 with 1 Axes>"
      ]
     },
     "metadata": {
      "needs_background": "light"
     },
     "output_type": "display_data"
    }
   ],
   "source": [
    "plt.figure()   # resistivity curve\n",
    "plt.plot(trueRes, pe.depth)\n",
    "plt.plot(appRes, pe.depth, 'r--') \n",
    "plt.xlabel(\"Resistivity (Ω·m)\", font1)\n",
    "plt.ylabel(\"Depth (m)\", font1)\n",
    "plt.xlim(np.min(trueRes) - offset, np.max(trueRes) + offset)\n",
    "plt.ylim(np.max(pe.depth) + offset, np.min(pe.depth) - offset)\n",
    "plt.legend(['model', 'appRes'])\n",
    "plt.grid()"
   ]
  }
 ],
 "metadata": {
  "anaconda-cloud": {},
  "kernelspec": {
   "display_name": "Python 3",
   "language": "python",
   "name": "python3"
  },
  "language_info": {
   "codemirror_mode": {
    "name": "ipython",
    "version": 3
   },
   "file_extension": ".py",
   "mimetype": "text/x-python",
   "name": "python",
   "nbconvert_exporter": "python",
   "pygments_lexer": "ipython3",
   "version": "3.7.3"
  }
 },
 "nbformat": 4,
 "nbformat_minor": 1
}
